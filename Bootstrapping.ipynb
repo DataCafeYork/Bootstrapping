{
  "nbformat": 4,
  "nbformat_minor": 0,
  "metadata": {
    "colab": {
      "name": "Bootstrapping.ipynb",
      "provenance": []
    },
    "kernelspec": {
      "name": "python3",
      "display_name": "Python 3"
    }
  },
  "cells": [
    {
      "cell_type": "markdown",
      "metadata": {
        "id": "txmj3W-MAr4N",
        "colab_type": "text"
      },
      "source": [
        "# Confidence Intervals and Bootstrapping\n",
        "The concepts of confidence intervals and bootstrapping are linked by the definition of a p-value. Here I paraphrase the definition from Wikipedia, making it a bit shorter (and hopefully not loose meaning):\n",
        "\n",
        "**P-value:** _The probability of observing this result or a more extreme one, under the null-hypothesis._\n",
        "\n",
        "That is: if you'd do the same experiment over and over, many times, and there was actually no effect, what percentage of your results would be as extreme as this one or more extreme. If that percentage (probability) is very low, then it is less likely that there is no effect.\n",
        "\n",
        "## T-tests\n",
        "\n",
        "Let's unpack this a bit more with a common t-test, which we can get from `scipy`. We'll also need some data, which we will simply simulate for now, so we'll also import some stuff to handle random numbers from numpy.\n"
      ]
    },
    {
      "cell_type": "code",
      "metadata": {
        "id": "gs4a3nXLAi9m",
        "colab_type": "code",
        "colab": {}
      },
      "source": [
        "from scipy import stats, int16\n",
        "from numpy import random"
      ],
      "execution_count": 0,
      "outputs": []
    },
    {
      "cell_type": "markdown",
      "metadata": {
        "id": "wgvcyzxMC_Pa",
        "colab_type": "text"
      },
      "source": [
        "We will simulate 15 IQ-scores and test if they are higher than 100: the theoretical population mean. The population should have a standard deviation of 15, which we will use, but we'll use a mean of 111, to see if a t-test can detect this."
      ]
    },
    {
      "cell_type": "code",
      "metadata": {
        "id": "JseI2y59FNMP",
        "colab_type": "code",
        "colab": {
          "base_uri": "https://localhost:8080/",
          "height": 35
        },
        "outputId": "405285ac-e37e-4019-fc53-694450048fe6"
      },
      "source": [
        "random.seed(15)\n",
        "IQ = int16((random.randn(15)*15)+111)\n",
        "print(IQ)"
      ],
      "execution_count": 14,
      "outputs": [
        {
          "output_type": "stream",
          "text": [
            "[106 116 108 103 114  84  94  94 106 103 107 116 121 117 102]\n"
          ],
          "name": "stdout"
        }
      ]
    },
    {
      "cell_type": "markdown",
      "metadata": {
        "id": "5yKeds7hFzsT",
        "colab_type": "text"
      },
      "source": [
        "Many scores are below the population mean, and many above, but is the mean of this group different from the theoretical mean? Let's run that t-test:"
      ]
    },
    {
      "cell_type": "code",
      "metadata": {
        "id": "2nY2PTnqGbqp",
        "colab_type": "code",
        "colab": {
          "base_uri": "https://localhost:8080/",
          "height": 35
        },
        "outputId": "b3028d89-b026-41c3-e9c0-be0066107164"
      },
      "source": [
        "print(stats.ttest_1samp(IQ, 100))"
      ],
      "execution_count": 15,
      "outputs": [
        {
          "output_type": "stream",
          "text": [
            "Ttest_1sampResult(statistic=2.332238334289815, pvalue=0.03513184018915716)\n"
          ],
          "name": "stdout"
        }
      ]
    },
    {
      "cell_type": "markdown",
      "metadata": {
        "id": "bC7YXLBbGwCa",
        "colab_type": "text"
      },
      "source": [
        "Since the p-value is below 0.05 (the usual alpha) we can conclude that this sample's IQ scores are very likely different from the population mean (not higher, since this is a two-sided t-test). That is, we can reject the null-hypothesis (that this sample has a mean of 100). And if we're cheeky about it, we could even accept the alternative hypothesis.\n",
        "\n",
        "This p-value is calculated with the Student t distribution (or sample t distribution). I'll show this distribution first, using `scipy.stats.t` which has a lot of functions for dealing with the t distribution. The t distribution only needs one shape parameter: `df`, os degrees of freedom. Which in our case is 15-1=14. We'll plot the probability density function across a range of z-scores (or quantiles). An array of z-score values is the first argument for the probability density function."
      ]
    },
    {
      "cell_type": "code",
      "metadata": {
        "id": "yf2wJjDkIEvl",
        "colab_type": "code",
        "colab": {
          "base_uri": "https://localhost:8080/",
          "height": 265
        },
        "outputId": "98a64bfe-43c7-47b6-a196-d14f214c7be0"
      },
      "source": [
        "from numpy import arange\n",
        "step = .05\n",
        "# this generates the quantiles or z-scores\n",
        "zscores = arange(-4, 4+step, step)\n",
        "# here we calculate the probabilities of those quantiles in the t-distribution:\n",
        "pds = stats.t.pdf(zscores, 14)\n",
        "import pylab\n",
        "pylab.plot(zscores, pds)\n",
        "pylab.show()"
      ],
      "execution_count": 28,
      "outputs": [
        {
          "output_type": "display_data",
          "data": {
            "image/png": "[encoded data removed]",
            "text/plain": [
              "<Figure size 432x288 with 1 Axes>"
            ]
          },
          "metadata": {
            "tags": []
          }
        }
      ]
    },
    {
      "cell_type": "markdown",
      "metadata": {
        "id": "7EOOxr69KNIx",
        "colab_type": "text"
      },
      "source": [
        "If you've taken any statistics courses, this should look familiar. The y-axis here does not equal p-values, by the way (it's the proportion of the surface that falls within +/- some quantile). But we can use the t-statistic to calculate the p-value using another function in `scipy.stats.t`:"
      ]
    },
    {
      "cell_type": "code",
      "metadata": {
        "id": "FaXw-E6oLYBY",
        "colab_type": "code",
        "colab": {
          "base_uri": "https://localhost:8080/",
          "height": 35
        },
        "outputId": "b7aadd03-6596-4eb7-f42c-fa2b663e6dd7"
      },
      "source": [
        "print((1 - stats.t.cdf(2.332238334289815, 14))*2)"
      ],
      "execution_count": 32,
      "outputs": [
        {
          "output_type": "stream",
          "text": [
            "0.03513184018915716\n"
          ],
          "name": "stdout"
        }
      ]
    },
    {
      "cell_type": "markdown",
      "metadata": {
        "id": "2FKwjdfXN2eY",
        "colab_type": "text"
      },
      "source": [
        "How to calculate the t-statistic is another issue (it's not hard, check [this post from toward data science](https://towardsdatascience.com/inferential-statistics-series-t-test-using-numpy-2718f8f9bf2f)). \n",
        "\n",
        "## Calculating Confidence Intervals with the T-distribution\n",
        "\n",
        "For now, we'll also use the t distribution to calculate a confidence interval which some statistics package will report as part of the t-test results. For convenience I'll first define a function that does the work:"
      ]
    },
    {
      "cell_type": "code",
      "metadata": {
        "id": "a5GdA-ezO01t",
        "colab_type": "code",
        "colab": {}
      },
      "source": [
        "from numpy import mean, var, sqrt\n",
        "\n",
        "def calculateConfidenceInterval(data, conflevel=0.95):\n",
        "  df = len(data)-1\n",
        "\n",
        "  # now we're using the ppf function describing the t-distribution:\n",
        "  zscore = stats.t.ppf((1-conflevel)/2, df)\n",
        "  \n",
        "  # we will also need the mean and SEM\n",
        "  xbar = mean(data)\n",
        "  sdx = sqrt(var(data, ddof=1)/len(data)) # SEM, or standard error of the mean\n",
        "  \n",
        "  # now we get the confidence interval,\n",
        "  # by multiplying the z-score (for 1 SEM) with the actual SEM\n",
        "  # and adding / subtracting it to / from the mean of the sample\n",
        "  confidenceinterval = [xbar + (zscore * sdx), xbar - (zscore * sdx)]\n",
        "\n",
        "  # and we return the result:\n",
        "  return(confidenceinterval)"
      ],
      "execution_count": 0,
      "outputs": []
    },
    {
      "cell_type": "markdown",
      "metadata": {
        "id": "UHP_ruCbQh-t",
        "colab_type": "text"
      },
      "source": [
        "So now we can use this function to get the confidence interval for the simulated IQ scores:"
      ]
    },
    {
      "cell_type": "code",
      "metadata": {
        "id": "TGXZFL4MQohu",
        "colab_type": "code",
        "colab": {
          "base_uri": "https://localhost:8080/",
          "height": 35
        },
        "outputId": "3e9b4587-e860-4e1e-9355-65ca10cf5a9a"
      },
      "source": [
        "CI = calculateConfidenceInterval(IQ)\n",
        "print(CI)"
      ],
      "execution_count": 54,
      "outputs": [
        {
          "output_type": "stream",
          "text": [
            "[100.4876031055413, 111.64573022779203]\n"
          ],
          "name": "stdout"
        }
      ]
    },
    {
      "cell_type": "markdown",
      "metadata": {
        "id": "P48Ra2bJS43l",
        "colab_type": "text"
      },
      "source": [
        "The point here is that since we used a confidence level of `1 - alpha` or `1 - 0.05 = 0.95`, and that same alpha for the t-test, the two are linked. The t-test's p-value will be below alpha, when the theoretical population mean is outside of the confidence interval.\n",
        "\n",
        "If you want to test if this confidence interval is correct, run the t-test in some statistics package that will get you a confidence interval along with p-values and such. For example, check the notebook for the same issue in R.\n",
        "\n",
        "There's probably a formal proof for this, but we can test it by comparing the set of IQ scores with a (not so theoretical) population mean that is either just inside or just outside the confidence interval for the IQ scores. Just inside, the p-value should be just above 0.05 and just outside, the p-value should be just below 0.05:"
      ]
    },
    {
      "cell_type": "code",
      "metadata": {
        "id": "p1pq_uYLUL5e",
        "colab_type": "code",
        "colab": {
          "base_uri": "https://localhost:8080/",
          "height": 54
        },
        "outputId": "a200f750-9d14-430e-a316-60e90a5d0ab4"
      },
      "source": [
        "print(stats.ttest_1samp(IQ, CI[0]+.001))\n",
        "print(stats.ttest_1samp(IQ, CI[0]-.001))"
      ],
      "execution_count": 56,
      "outputs": [
        {
          "output_type": "stream",
          "text": [
            "Ttest_1sampResult(statistic=2.14440225302666, pvalue=0.050035789240532)\n",
            "Ttest_1sampResult(statistic=2.1451711228071986, pvalue=0.04996423454942837)\n"
          ],
          "name": "stdout"
        }
      ]
    },
    {
      "cell_type": "markdown",
      "metadata": {
        "id": "qJI6a1NwUfv_",
        "colab_type": "text"
      },
      "source": [
        "What we thought would happen is exactly what did happen. So by now, we are convinced that confidence intervals are tightly linked to hypothesis testing.\n",
        "\n",
        "> This is why showing confidence intervals in figures (instead of standard deviations or standard errors of the mean) is a good idea, and gaining popularity: your audience gets some insight into the statistics of your data at a glance.\n",
        "\n",
        "And that sets us up to appreciate the usefulness of bootstrapping.\n",
        "\n",
        "# Bootstrapping Confidence Intervals\n",
        "\n",
        "Technically, bootstrapping is a subset of Monte Carlo methods that use large amounts of random numbers to simulate results. In this case, we can use bootstrapping to obtain the confidence interval. For that to make sense, we go back to that definition of a p-value:\n",
        "\n",
        "**P-value:** _The probability of observing this result or a more extreme one, under the null-hypothesis._\n",
        "\n",
        "In this case, the confidence interval is the confidence interval of the mean, and that confidence interval says that if we repeat our experiment many times (we get more IQ scores from whatever population we samples), the mean will be within the confidence interval 95% of the time. With bootstrapping, we don't _really_ run the experiment many times, but we _simulate_ running it many times as best we can with the available data.\n",
        "\n",
        "In this [StackOverflow answer](https://stackoverflow.com/questions/52373318/how-to-compare-roc-auc-scores-of-different-binary-classifiers-and-assess-statist/52434908#52434908) by Ingo Fruend, there's a definition for a function that does some generic bootstrapping, and we'll use it here:"
      ]
    },
    {
      "cell_type": "code",
      "metadata": {
        "id": "HXk4UwIpXgm0",
        "colab_type": "code",
        "colab": {}
      },
      "source": [
        "from numpy import random, percentile\n",
        "\n",
        "def bootstrap(x, f, nsamples=1000):\n",
        "    stats = [f(x[random.randint(x.shape[0], size=x.shape[0])]) for _ in range(nsamples)]\n",
        "    return percentile(stats, (2.5, 97.5))"
      ],
      "execution_count": 0,
      "outputs": []
    },
    {
      "cell_type": "markdown",
      "metadata": {
        "id": "okWo0q8GYNMX",
        "colab_type": "text"
      },
      "source": [
        "In that function x is the data (IQ scores), f is a function (a function for the mean) and nsamples is the number of times we simulate running our experiment. \n",
        "\n",
        "> _Note:_ **What Should `nsamples` Be?**\n",
        "> \n",
        "> Setting nsamples to a sensible value depends... on stuff. For a 95% confidence interval of the mean 1000 is a usual value. If you want to have a wider confidence interval, like a 99% confidence interval, you want to have a reliable estimate of the likelihood of rarer events, so in that case, you want to use more samples. If your function is less reliably estimated from a sample (say, the variance compared to the mean) you will want to increase nsamples as well. Or if you rely on multiple random samples (say, you want a confidence interval for the difference in correlation coefficients) you will also want to increase the number of samples. By how much you should increase nsamples is entirely up to you, but generally, the more the better, especially if the bootstrapping completes in reasonable time (< 1 s?).\n",
        "\n",
        "Let's see what that function says the confidence interval for the IQ scores is:"
      ]
    },
    {
      "cell_type": "code",
      "metadata": {
        "id": "l7SiRTS1apa9",
        "colab_type": "code",
        "colab": {
          "base_uri": "https://localhost:8080/",
          "height": 90
        },
        "outputId": "398795b6-0cf0-453f-fd02-07572fea232c"
      },
      "source": [
        "# this is what we got before:\n",
        "print(CI)\n",
        "\n",
        "# let's try this bootstrapping a few times:\n",
        "print(bootstrap(IQ, mean))\n",
        "print(bootstrap(IQ, mean))\n",
        "print(bootstrap(IQ, mean))"
      ],
      "execution_count": 60,
      "outputs": [
        {
          "output_type": "stream",
          "text": [
            "[100.4876031055413, 111.64573022779203]\n",
            "[101.33333333 110.40166667]\n",
            "[101.06666667 110.80166667]\n",
            "[100.8        110.60333333]\n"
          ],
          "name": "stdout"
        }
      ]
    },
    {
      "cell_type": "markdown",
      "metadata": {
        "id": "UiQqrUxta2_1",
        "colab_type": "text"
      },
      "source": [
        "If course, running the function multiple times will result in different confidence intervals, as they are generated using random numbers. However, those confidence intervals are all close together. More importantly, they are also close to the confidence interval that we calculated from the t-distribution. The bootstrapped confidence interval will generally be a little narrower than the one calculated with the t-distribution. This may be because the actual data is not random sample that does not exactly follow the t distribution, or it may be because it is not sampled from the t distribution but from a \"normal\" distribution.\n",
        "\n",
        "# Wider applications\n",
        "\n",
        "Either way, bootstrapping confidence intervals is very similar to calculating a p-value. Of course, for the toy example above, it doesn't matter and _calculating_ the exact 95% confidence interval of the mean is easy & fast, so maybe that is better.\n",
        "\n",
        "However, that is not always the case. For example, if you don't want a confidence interval for the mean, but a confidence interval for the variance. We can use the function that Ingo wrote to calculate the confidence interval for the variance:"
      ]
    },
    {
      "cell_type": "code",
      "metadata": {
        "id": "BMiyS94BdmlT",
        "colab_type": "code",
        "colab": {
          "base_uri": "https://localhost:8080/",
          "height": 35
        },
        "outputId": "ef8b027c-771f-4c12-9ef1-abc4e26cb180"
      },
      "source": [
        "print(bootstrap(IQ, var))"
      ],
      "execution_count": 63,
      "outputs": [
        {
          "output_type": "stream",
          "text": [
            "[ 37.44666667 154.53488889]\n"
          ],
          "name": "stdout"
        }
      ]
    },
    {
      "cell_type": "markdown",
      "metadata": {
        "id": "izaPZn39eByW",
        "colab_type": "text"
      },
      "source": [
        "Since we generated the sample with standard deviation of 15, the variance should be 225, but this falls outside the confidence interval of the actual sample. In this case, I'd say that means that by accident we got a sample with a standard deviation that was a little different from what we specified, and this is because it is less reliably estimated from the same sample as the mean. In other words, if we'd get a larger sample, it should be closer to the specified value:"
      ]
    },
    {
      "cell_type": "code",
      "metadata": {
        "id": "vAwmUWEhewK7",
        "colab_type": "code",
        "colab": {
          "base_uri": "https://localhost:8080/",
          "height": 35
        },
        "outputId": "5539e391-04a1-4846-ebc1-6d09cd2ea8ba"
      },
      "source": [
        "random.seed(15)\n",
        "IQ2 = int16((random.randn(150)*15)+111)\n",
        "print(bootstrap(IQ2, var))"
      ],
      "execution_count": 65,
      "outputs": [
        {
          "output_type": "stream",
          "text": [
            "[182.40208556 279.54413222]\n"
          ],
          "name": "stdout"
        }
      ]
    },
    {
      "cell_type": "markdown",
      "metadata": {
        "id": "C2SK7qnNe8Y9",
        "colab_type": "text"
      },
      "source": [
        "And it does, however, with the variance, we might want to increase the number of samples. Let's first get an impression of the how stable the 95% confidence interval of the variance is with 500 samples: "
      ]
    },
    {
      "cell_type": "code",
      "metadata": {
        "id": "UAoRriFcfQYT",
        "colab_type": "code",
        "colab": {
          "base_uri": "https://localhost:8080/",
          "height": 201
        },
        "outputId": "a8be44ab-5ea1-4f7d-e20a-44e90136553e"
      },
      "source": [
        "for i in range(10):\n",
        "  print(bootstrap(IQ2, var, 500))"
      ],
      "execution_count": 68,
      "outputs": [
        {
          "output_type": "stream",
          "text": [
            "[181.63053889 273.80595889]\n",
            "[178.46087889 281.33228889]\n",
            "[180.28792333 286.12517222]\n",
            "[182.96459556 276.18636   ]\n",
            "[172.64665333 277.76314222]\n",
            "[181.05074556 280.98361222]\n",
            "[178.74446667 280.33868889]\n",
            "[180.80490667 281.96590222]\n",
            "[179.08849889 279.58445333]\n",
            "[179.45335556 277.61087889]\n"
          ],
          "name": "stdout"
        }
      ]
    },
    {
      "cell_type": "markdown",
      "metadata": {
        "id": "AzDO1jF5fjxs",
        "colab_type": "text"
      },
      "source": [
        "And now with 10000 samples:"
      ]
    },
    {
      "cell_type": "code",
      "metadata": {
        "id": "XXwsbd_YfnW2",
        "colab_type": "code",
        "colab": {
          "base_uri": "https://localhost:8080/",
          "height": 201
        },
        "outputId": "4a312406-cd1a-4db6-8373-4a26dae4e9fe"
      },
      "source": [
        "for i in range(10):\n",
        "  print(bootstrap(IQ2, var, 10000))"
      ],
      "execution_count": 69,
      "outputs": [
        {
          "output_type": "stream",
          "text": [
            "[178.81559667 281.39868   ]\n",
            "[178.51212889 282.24438556]\n",
            "[178.79587889 281.91783667]\n",
            "[178.47912889 280.56197222]\n",
            "[179.62508333 280.67659222]\n",
            "[177.85921889 281.59156889]\n",
            "[178.29607889 281.42607222]\n",
            "[179.72727222 281.19406667]\n",
            "[178.52313889 282.16995556]\n",
            "[179.60303556 281.51812889]\n"
          ],
          "name": "stdout"
        }
      ]
    },
    {
      "cell_type": "markdown",
      "metadata": {
        "id": "w62HjamFfv7U",
        "colab_type": "text"
      },
      "source": [
        "In Google collab this takes noticeably longer to run, but we can also appreciate that the bootstrapped confidence intervals are more similar to each other. Of course, if you'd want to test if they are significantly more similar to each other, you could bootstrap that!"
      ]
    },
    {
      "cell_type": "markdown",
      "metadata": {
        "id": "-TvBZV4pgFTP",
        "colab_type": "text"
      },
      "source": [
        "The point here is that apart from comparing means, bootstrapped confidence intervals can be used to test other descriptives. In the StackOverflow question that Ingo answered, it was about comparing the area under the curve for different ROCs, and in the Data Cafe, we got a question about the difference between correlation coefficients. For such cases, you'll likely have to write your own function that simulates many datasets to calculate your statistic on, but once you get the hang of this, you can test anything."
      ]
    }
  ]
}